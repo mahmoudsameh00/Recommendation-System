{
 "cells": [
  {
   "cell_type": "code",
   "execution_count": 8,
   "metadata": {},
   "outputs": [
    {
     "name": "stdout",
     "output_type": "stream",
     "text": [
      "enter film title : spider man\n"
     ]
    }
   ],
   "source": [
    "x=input('enter film title : ')\n",
    "x=x.replace(' ','+')\n",
    "import webbrowser\n",
    "url='https://www.themoviedb.org/search?query={}'.format(x)\n",
    "webbrowser.open('https://www.themoviedb.org/search?query={}'.format(x), new=0)\n",
    "from selenium import webdriver\n",
    "driver = webdriver.Chrome()\n",
    "driver.get(url)\n",
    "try:\n",
    "    button = driver.find_element(\"xpath\",\"//*[@class='result']\")\n",
    "    button.click()\n",
    "except:\n",
    "    print('There are no movies that matched your query')"
   ]
  },
  {
   "cell_type": "code",
   "execution_count": 9,
   "metadata": {},
   "outputs": [
    {
     "name": "stderr",
     "output_type": "stream",
     "text": [
      "C:\\Users\\Turbo\\anaconda3\\lib\\site-packages\\requests\\__init__.py:91: RequestsDependencyWarning: urllib3 (1.26.12) or chardet (3.0.4) doesn't match a supported version!\n",
      "  RequestsDependencyWarning)\n",
      "C:\\Users\\Turbo\\anaconda3\\lib\\site-packages\\IPython\\core\\interactiveshell.py:3254: DtypeWarning: Columns (10) have mixed types.Specify dtype option on import or set low_memory=False.\n",
      "  if (await self.run_code(code, result,  async_=asy)):\n"
     ]
    }
   ],
   "source": [
    "if driver.current_url.split('/')[3]!='movie':\n",
    "    print('Not found')\n",
    "else:\n",
    "    ## get Id of Movie\n",
    "    i=driver.current_url.split('/')[-1].split('-')[0]\n",
    "    ## Read API by json\n",
    "    import requests\n",
    "    import json\n",
    "    json_resp=requests.get('https://api.themoviedb.org/3/movie/{}?api_key=9e8098e67bb6c80f099f225ebe3368cc'.format(i))\n",
    "    data=json.loads(json_resp.text)\n",
    "    ## Get Rate\n",
    "    import Rate\n",
    "    rate=Rate.rate(data['vote_count'],data['vote_average'])\n",
    "    ## Get Popularity\n",
    "    popularity=data['popularity']\n",
    "    ## Get Date\n",
    "    date=int(data['release_date'].split('-')[0])\n",
    "    ## Get Original_language\n",
    "    original_language=data['original_language']\n",
    "    ## Get Runtime\n",
    "    runtime=data['runtime']\n",
    "    ## Get Genres\n",
    "    genres=[d['name'] for d in data['genres']]"
   ]
  },
  {
   "cell_type": "code",
   "execution_count": 10,
   "metadata": {},
   "outputs": [
    {
     "name": "stdout",
     "output_type": "stream",
     "text": [
      "popularity : 821.963 \n",
      " rate : 8.0 \n",
      " date : 2021 \n",
      " original_language : en \n",
      " runtime : 148 \n",
      " genres : ['Action', 'Adventure', 'Science Fiction']\n"
     ]
    }
   ],
   "source": [
    "print('popularity :',popularity,'\\n','rate :',rate,'\\n','date :',date,'\\n','original_language :',original_language,'\\n','runtime :',runtime,'\\n','genres :',genres)"
   ]
  },
  {
   "cell_type": "code",
   "execution_count": null,
   "metadata": {},
   "outputs": [],
   "source": []
  }
 ],
 "metadata": {
  "kernelspec": {
   "display_name": "Python 3",
   "language": "python",
   "name": "python3"
  },
  "language_info": {
   "codemirror_mode": {
    "name": "ipython",
    "version": 3
   },
   "file_extension": ".py",
   "mimetype": "text/x-python",
   "name": "python",
   "nbconvert_exporter": "python",
   "pygments_lexer": "ipython3",
   "version": "3.7.6"
  }
 },
 "nbformat": 4,
 "nbformat_minor": 4
}
